{
  "nbformat": 4,
  "nbformat_minor": 0,
  "metadata": {
    "colab": {
      "provenance": []
    },
    "kernelspec": {
      "name": "python3",
      "display_name": "Python 3"
    },
    "language_info": {
      "name": "python"
    }
  },
  "cells": [
    {
      "cell_type": "code",
      "execution_count": null,
      "metadata": {
        "id": "WwTqlRBpyIH0"
      },
      "outputs": [],
      "source": [
        "import pandas as pd\n",
        "import numpy as np"
      ]
    },
    {
      "cell_type": "code",
      "source": [
        "u_cols = ['user_id', 'age', 'sex', 'occupation', 'zip_code']\n",
        "users = pd.read_csv('u.user', sep='|', names=u_cols,encoding='latin-1')"
      ],
      "metadata": {
        "id": "GVQWWTXayxDC"
      },
      "execution_count": null,
      "outputs": []
    },
    {
      "cell_type": "code",
      "source": [
        "print(\"\\nUser Data :\")\n",
        "print(\"shape : \", users.shape)\n",
        "print(users.head())"
      ],
      "metadata": {
        "colab": {
          "base_uri": "https://localhost:8080/"
        },
        "id": "H_SOa_mJy99R",
        "outputId": "9801fc88-6a9b-44e5-ceac-06a5d1e1ec93"
      },
      "execution_count": null,
      "outputs": [
        {
          "output_type": "stream",
          "name": "stdout",
          "text": [
            "\n",
            "User Data :\n",
            "shape :  (943, 5)\n",
            "   user_id  age sex  occupation zip_code\n",
            "0        1   24   M  technician    85711\n",
            "1        2   53   F       other    94043\n",
            "2        3   23   M      writer    32067\n",
            "3        4   24   M  technician    43537\n",
            "4        5   33   F       other    15213\n"
          ]
        }
      ]
    },
    {
      "cell_type": "code",
      "source": [
        "r_cols = ['user_id', 'movie_id', 'rating', 'unix_timestamp']\n",
        "ratings = pd.read_csv('u.data', sep='\\t', names=r_cols,encoding='latin-1')"
      ],
      "metadata": {
        "id": "ds4EaJV_zoHP"
      },
      "execution_count": null,
      "outputs": []
    },
    {
      "cell_type": "code",
      "source": [
        "print(\"\\nRatings Data :\")\n",
        "print(\"shape : \", ratings.shape)\n",
        "print(ratings.head())"
      ],
      "metadata": {
        "colab": {
          "base_uri": "https://localhost:8080/"
        },
        "id": "D1MTf-pm0ETw",
        "outputId": "199f0f56-3152-4f44-ecec-a69dd1c95ba0"
      },
      "execution_count": null,
      "outputs": [
        {
          "output_type": "stream",
          "name": "stdout",
          "text": [
            "\n",
            "Ratings Data :\n",
            "shape :  (100000, 4)\n",
            "   user_id  movie_id  rating  unix_timestamp\n",
            "0      196       242       3       881250949\n",
            "1      186       302       3       891717742\n",
            "2       22       377       1       878887116\n",
            "3      244        51       2       880606923\n",
            "4      166       346       1       886397596\n"
          ]
        }
      ]
    },
    {
      "cell_type": "code",
      "source": [
        "i_cols = ['movie id', 'movie title' ,'release date','video release date', 'IMDb URL', 'unknown', 'Action', 'Adventure',\n",
        "'Animation', 'Children\\'s', 'Comedy', 'Crime', 'Documentary', 'Drama', 'Fantasy',\n",
        "'Film-Noir', 'Horror', 'Musical', 'Mystery', 'Romance', 'Sci-Fi', 'Thriller', 'War', 'Western']\n",
        "items = pd.read_csv('u.item', sep='|', names=i_cols,\n",
        "encoding='latin-1')"
      ],
      "metadata": {
        "id": "ZAK6MihS0brm"
      },
      "execution_count": null,
      "outputs": []
    },
    {
      "cell_type": "code",
      "source": [
        "print(\"\\nItem Data :\")\n",
        "print(\"shape : \", items.shape)\n",
        "print(items.head())"
      ],
      "metadata": {
        "colab": {
          "base_uri": "https://localhost:8080/"
        },
        "id": "bp5Ylkb40gpe",
        "outputId": "cc5a40a0-f22e-4cb2-b315-4f97d879b8c1"
      },
      "execution_count": null,
      "outputs": [
        {
          "output_type": "stream",
          "name": "stdout",
          "text": [
            "\n",
            "Item Data :\n",
            "shape :  (1682, 24)\n",
            "   movie id        movie title release date  video release date  \\\n",
            "0         1   Toy Story (1995)  01-Jan-1995                 NaN   \n",
            "1         2   GoldenEye (1995)  01-Jan-1995                 NaN   \n",
            "2         3  Four Rooms (1995)  01-Jan-1995                 NaN   \n",
            "3         4  Get Shorty (1995)  01-Jan-1995                 NaN   \n",
            "4         5     Copycat (1995)  01-Jan-1995                 NaN   \n",
            "\n",
            "                                            IMDb URL  unknown  Action  \\\n",
            "0  http://us.imdb.com/M/title-exact?Toy%20Story%2...        0       0   \n",
            "1  http://us.imdb.com/M/title-exact?GoldenEye%20(...        0       1   \n",
            "2  http://us.imdb.com/M/title-exact?Four%20Rooms%...        0       0   \n",
            "3  http://us.imdb.com/M/title-exact?Get%20Shorty%...        0       1   \n",
            "4  http://us.imdb.com/M/title-exact?Copycat%20(1995)        0       0   \n",
            "\n",
            "   Adventure  Animation  Children's  ...  Fantasy  Film-Noir  Horror  Musical  \\\n",
            "0          0          1           1  ...        0          0       0        0   \n",
            "1          1          0           0  ...        0          0       0        0   \n",
            "2          0          0           0  ...        0          0       0        0   \n",
            "3          0          0           0  ...        0          0       0        0   \n",
            "4          0          0           0  ...        0          0       0        0   \n",
            "\n",
            "   Mystery  Romance  Sci-Fi  Thriller  War  Western  \n",
            "0        0        0       0         0    0        0  \n",
            "1        0        0       0         1    0        0  \n",
            "2        0        0       0         1    0        0  \n",
            "3        0        0       0         0    0        0  \n",
            "4        0        0       0         1    0        0  \n",
            "\n",
            "[5 rows x 24 columns]\n"
          ]
        }
      ]
    },
    {
      "cell_type": "code",
      "source": [
        "r_cols = ['user_id', 'movie_id', 'rating', 'unix_timestamp']\n",
        "ratings_train = pd.read_csv('ua.base', sep='\\t', names=r_cols, encoding='latin-1')\n",
        "ratings_test = pd.read_csv('ua.test', sep='\\t', names=r_cols, encoding='latin-1')\n",
        "ratings_train.shape, ratings_test.shape"
      ],
      "metadata": {
        "colab": {
          "base_uri": "https://localhost:8080/"
        },
        "id": "MSzk_5_x0uGy",
        "outputId": "6d8808ce-528c-4dbe-b3c2-dcf747a015ef"
      },
      "execution_count": null,
      "outputs": [
        {
          "output_type": "execute_result",
          "data": {
            "text/plain": [
              "((90570, 4), (9430, 4))"
            ]
          },
          "metadata": {},
          "execution_count": 9
        }
      ]
    },
    {
      "cell_type": "code",
      "source": [
        "n_users = ratings.user_id.unique().shape[0]\n",
        "n_items = ratings.movie_id.unique().shape[0]"
      ],
      "metadata": {
        "id": "q5GxZf2I3GTR"
      },
      "execution_count": null,
      "outputs": []
    },
    {
      "cell_type": "code",
      "source": [
        "print(n_users)"
      ],
      "metadata": {
        "colab": {
          "base_uri": "https://localhost:8080/"
        },
        "id": "J0BVYnIR38d-",
        "outputId": "10a6b13f-315c-4059-8425-abc0c39685d8"
      },
      "execution_count": null,
      "outputs": [
        {
          "output_type": "stream",
          "name": "stdout",
          "text": [
            "943\n"
          ]
        }
      ]
    },
    {
      "cell_type": "code",
      "source": [
        "print(n_items)"
      ],
      "metadata": {
        "colab": {
          "base_uri": "https://localhost:8080/"
        },
        "id": "PMr2ATRV4LF-",
        "outputId": "44b0ecd3-650a-4a9e-af09-8530a93b83ca"
      },
      "execution_count": null,
      "outputs": [
        {
          "output_type": "stream",
          "name": "stdout",
          "text": [
            "1682\n"
          ]
        }
      ]
    },
    {
      "cell_type": "code",
      "source": [
        "data_matrix = np.zeros((n_users, n_items))\n",
        "for line in ratings.itertuples():\n",
        "    data_matrix[line[1]-1, line[2]-1] = line[3]"
      ],
      "metadata": {
        "id": "lzvU888e3K9z"
      },
      "execution_count": null,
      "outputs": []
    },
    {
      "cell_type": "code",
      "source": [
        "print(data_matrix)"
      ],
      "metadata": {
        "id": "Cgx4N5iI4nZT",
        "outputId": "660b334d-0c9e-4d0c-9065-9f250de166f0",
        "colab": {
          "base_uri": "https://localhost:8080/"
        }
      },
      "execution_count": null,
      "outputs": [
        {
          "output_type": "stream",
          "name": "stdout",
          "text": [
            "[[5. 3. 4. ... 0. 0. 0.]\n",
            " [4. 0. 0. ... 0. 0. 0.]\n",
            " [0. 0. 0. ... 0. 0. 0.]\n",
            " ...\n",
            " [5. 0. 0. ... 0. 0. 0.]\n",
            " [0. 0. 0. ... 0. 0. 0.]\n",
            " [0. 5. 0. ... 0. 0. 0.]]\n"
          ]
        }
      ]
    },
    {
      "cell_type": "code",
      "source": [
        "from sklearn.metrics.pairwise import pairwise_distances\n",
        "user_similarity = pairwise_distances(data_matrix, metric='cosine')\n",
        "item_similarity = pairwise_distances(data_matrix.T, metric='cosine')"
      ],
      "metadata": {
        "id": "rl3_ef5hvzyY"
      },
      "execution_count": null,
      "outputs": []
    },
    {
      "cell_type": "code",
      "source": [
        "def predict(ratings, similarity, type='user'):\n",
        "    if type == 'user':\n",
        "        mean_user_rating = ratings.mean(axis=1)\n",
        "        #We use np.newaxis so that mean_user_rating has same format as ratings\n",
        "        ratings_diff = (ratings - mean_user_rating[:, np.newaxis])\n",
        "        pred = mean_user_rating[:, np.newaxis] + similarity.dot(ratings_diff) / np.array([np.abs(similarity).sum(axis=1)]).T\n",
        "    elif type == 'item':\n",
        "        pred = ratings.dot(similarity) / np.array([np.abs(similarity).sum(axis=1)])\n",
        "    return pred"
      ],
      "metadata": {
        "id": "haTBmmI_wEOK"
      },
      "execution_count": null,
      "outputs": []
    },
    {
      "cell_type": "code",
      "source": [
        "user_prediction = predict(data_matrix, user_similarity, type='user')\n",
        "item_prediction = predict(data_matrix, item_similarity, type='item')"
      ],
      "metadata": {
        "id": "U1f4Lp65waL0"
      },
      "execution_count": null,
      "outputs": []
    },
    {
      "cell_type": "code",
      "source": [
        "print(user_prediction)"
      ],
      "metadata": {
        "colab": {
          "base_uri": "https://localhost:8080/"
        },
        "id": "FyqbvivZx5Ef",
        "outputId": "89ce3bbb-5564-4bc4-8d81-f90facdef1af"
      },
      "execution_count": null,
      "outputs": [
        {
          "output_type": "stream",
          "name": "stdout",
          "text": [
            "[[ 2.06532606  0.73430275  0.62992381 ...  0.39359041  0.39304874\n",
            "   0.3927712 ]\n",
            " [ 1.76308836  0.38404019  0.19617889 ... -0.08837789 -0.0869183\n",
            "  -0.08671183]\n",
            " [ 1.79590398  0.32904733  0.15882885 ... -0.13699223 -0.13496852\n",
            "  -0.13476488]\n",
            " ...\n",
            " [ 1.59151513  0.27526889  0.10219534 ... -0.16735162 -0.16657451\n",
            "  -0.16641377]\n",
            " [ 1.81036267  0.40479877  0.27545013 ... -0.00907358 -0.00846587\n",
            "  -0.00804858]\n",
            " [ 1.8384313   0.47964837  0.38496292 ...  0.14686675  0.14629808\n",
            "   0.14641455]]\n"
          ]
        }
      ]
    },
    {
      "cell_type": "code",
      "source": [
        "print(item_prediction)"
      ],
      "metadata": {
        "colab": {
          "base_uri": "https://localhost:8080/"
        },
        "id": "QUvP1eHIyBXZ",
        "outputId": "fea7749f-76d5-41de-a666-ea4bb0da41ed"
      },
      "execution_count": null,
      "outputs": [
        {
          "output_type": "stream",
          "name": "stdout",
          "text": [
            "[[0.44627765 0.475473   0.50593755 ... 0.58815455 0.5731069  0.56669645]\n",
            " [0.10854432 0.13295661 0.12558851 ... 0.13445801 0.13657587 0.13711081]\n",
            " [0.08568497 0.09169006 0.08764343 ... 0.08465892 0.08976784 0.09084451]\n",
            " ...\n",
            " [0.03230047 0.0450241  0.04292449 ... 0.05302764 0.0519099  0.05228033]\n",
            " [0.15777917 0.17409459 0.18900003 ... 0.19979296 0.19739388 0.20003117]\n",
            " [0.24767207 0.24489212 0.28263031 ... 0.34410424 0.33051406 0.33102478]]\n"
          ]
        }
      ]
    },
    {
      "cell_type": "code",
      "source": [
        "class MF():\n",
        "\n",
        "    # Initializing the user-movie rating matrix, no. of latent features, alpha and beta.\n",
        "    def __init__(self, R, K, alpha, beta, iterations):\n",
        "        self.R = R\n",
        "        self.num_users, self.num_items = R.shape\n",
        "        self.K = K\n",
        "        self.alpha = alpha\n",
        "        self.beta = beta\n",
        "        self.iterations = iterations\n",
        "\n",
        "    # Initializing user-feature and movie-feature matrix\n",
        "    def train(self):\n",
        "        self.P = np.random.normal(scale=1./self.K, size=(self.num_users, self.K))\n",
        "        self.Q = np.random.normal(scale=1./self.K, size=(self.num_items, self.K))\n",
        "\n",
        "        # Initializing the bias terms\n",
        "        self.b_u = np.zeros(self.num_users)\n",
        "        self.b_i = np.zeros(self.num_items)\n",
        "        self.b = np.mean(self.R[np.where(self.R != 0)])\n",
        "\n",
        "        # List of training samples\n",
        "        self.samples = [\n",
        "        (i, j, self.R[i, j])\n",
        "        for i in range(self.num_users)\n",
        "        for j in range(self.num_items)\n",
        "        if self.R[i, j] > 0\n",
        "        ]\n",
        "\n",
        "        # Stochastic gradient descent for given number of iterations\n",
        "        training_process = []\n",
        "        for i in range(self.iterations):\n",
        "          np.random.shuffle(self.samples)\n",
        "          self.sgd()\n",
        "          mse = self.mse()\n",
        "          training_process.append((i, mse))\n",
        "          if (i+1) % 20 == 0:\n",
        "            print(\"Iteration: %d ; error = %.4f\" % (i+1, mse))\n",
        "\n",
        "        return training_process\n",
        "\n",
        "    # Computing total mean squared error\n",
        "    def mse(self):\n",
        "        xs, ys = self.R.nonzero()\n",
        "        predicted = self.full_matrix()\n",
        "        error = 0\n",
        "        for x, y in zip(xs, ys):\n",
        "            error += pow(self.R[x, y] - predicted[x, y], 2)\n",
        "        return np.sqrt(error)\n",
        "\n",
        "    # Stochastic gradient descent to get optimized P and Q matrix\n",
        "    def sgd(self):\n",
        "        for i, j, r in self.samples:\n",
        "            prediction = self.get_rating(i, j)\n",
        "            e = (r - prediction)\n",
        "\n",
        "            self.b_u[i] += self.alpha * (e - self.beta * self.b_u[i])\n",
        "            self.b_i[j] += self.alpha * (e - self.beta * self.b_i[j])\n",
        "\n",
        "            self.P[i, :] += self.alpha * (e * self.Q[j, :] - self.beta * self.P[i,:])\n",
        "            self.Q[j, :] += self.alpha * (e * self.P[i, :] - self.beta * self.Q[j,:])\n",
        "\n",
        "    # Ratings for user i and moive j\n",
        "    def get_rating(self, i, j):\n",
        "        prediction = self.b + self.b_u[i] + self.b_i[j] + self.P[i, :].dot(self.Q[j, :].T)\n",
        "        return prediction\n",
        "\n",
        "    # Full user-movie rating matrix\n",
        "    def full_matrix(self):\n",
        "        return mf.b + mf.b_u[:,np.newaxis] + mf.b_i[np.newaxis:,] + mf.P.dot(mf.Q.T)\n",
        "\n",
        "R= np.array(ratings.pivot(index = 'user_id', columns ='movie_id', values = 'rating').fillna(0))\n",
        "\n",
        "mf = MF(R, K=20, alpha=0.001, beta=0.01, iterations=100)\n",
        "training_process = mf.train()\n",
        "print()\n",
        "print(\"P x Q:\")\n",
        "print(mf.full_matrix())\n",
        "print()"
      ],
      "metadata": {
        "id": "IbHFhZ_f6rAa",
        "colab": {
          "base_uri": "https://localhost:8080/"
        },
        "outputId": "59e99480-085f-4f9e-cd1a-432935f8d1f4"
      },
      "execution_count": null,
      "outputs": [
        {
          "output_type": "stream",
          "name": "stdout",
          "text": [
            "Iteration: 20 ; error = 296.1456\n",
            "Iteration: 40 ; error = 291.1112\n",
            "Iteration: 60 ; error = 287.8528\n",
            "Iteration: 80 ; error = 282.8229\n",
            "Iteration: 100 ; error = 273.5981\n",
            "\n",
            "P x Q:\n",
            "[[3.88748536 3.24058805 3.1544916  ... 3.30770073 3.44742097 3.46641544]\n",
            " [3.85969579 3.37079338 3.1062688  ... 3.39214178 3.51744534 3.46646826]\n",
            " [3.31066795 2.84777577 2.62525236 ... 2.8272204  2.93351913 2.89290009]\n",
            " ...\n",
            " [4.206213   3.63659076 3.43633221 ... 3.62538141 3.79319598 3.73033377]\n",
            " [4.3868666  3.77657643 3.5293374  ... 3.79229416 3.91578598 3.87622966]\n",
            " [3.85619554 3.20666973 2.96781894 ... 3.2450251  3.33041966 3.30047464]]\n",
            "\n"
          ]
        }
      ]
    }
  ]
}